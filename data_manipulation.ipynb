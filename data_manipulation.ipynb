{
 "cells": [
  {
   "cell_type": "code",
   "execution_count": null,
   "metadata": {},
   "outputs": [
    {
     "ename": "",
     "evalue": "",
     "output_type": "error",
     "traceback": [
      "\u001b[1;31mRunning cells with 'py3.6.9' requires the ipykernel package.\n",
      "\u001b[1;31mRun the following command to install 'ipykernel' into the Python environment. \n",
      "\u001b[1;31mCommand: 'conda install -n py3.6.9 ipykernel --update-deps --force-reinstall'"
     ]
    }
   ],
   "source": [
    "from netCDF4 import Dataset\n",
    "\n",
    "variables = {\n",
    "        'trajectory': 'trajectory',\n",
    "        'time': 'time',\n",
    "        'temperature': 'temperature',\n",
    "        'latitude': 'lat',\n",
    "        'longitude': 'lon',\n",
    "        'dissolved_oxygen': 'DO',\n",
    "        'depth': 'depth',\n",
    "        'nav_depth': 'navDepth',\n",
    "        'salinity': 'salinity',\n",
    "        'density': 'dens',\n",
    "        'backscatter': 'BB',\n",
    "        'CDOM': 'CDOM',\n",
    "        'chlorophyl_a': 'chla',\n",
    "        'conductivity': 'conductivity',\n",
    "        'pressure': 'press'\n",
    "    }\n",
    "\n",
    "def readNCFile(filename):\n",
    "    dataset = Dataset(filename, mode='r')\n",
    "    data = {}\n",
    "    for var, attribute in variables.items():\n",
    "        try:\n",
    "            data[var] = dataset.variables[attribute][:]\n",
    "            data[f'{var}_units'] = dataset.variables[attribute].units\n",
    "        except KeyError:\n",
    "            print(f\"Warning: {var} not found in the dataset.\")\n",
    "            data[var] = None\n",
    "            data[f'{var}_units'] = None\n",
    "\n",
    "    # Special handling for density\n",
    "    # if data['density'] is not None:\n",
    "    #     data['density'] -= 1000\n",
    "\n",
    "    dataset.close()\n",
    "\n",
    "    return data"
   ]
  },
  {
   "cell_type": "code",
   "execution_count": null,
   "metadata": {},
   "outputs": [],
   "source": [
    "print(\"Hello World\")\n",
    "print(\"Hello World\")\n",
    "print(\"Hello World\")\n",
    "print(\"Hello World\")"
   ]
  },
  {
   "cell_type": "code",
   "execution_count": null,
   "metadata": {},
   "outputs": [],
   "source": []
  }
 ],
 "metadata": {
  "kernelspec": {
   "display_name": "py3.6.9",
   "language": "python",
   "name": "python3"
  },
  "language_info": {
   "name": "python",
   "version": "3.6.13"
  },
  "orig_nbformat": 4
 },
 "nbformat": 4,
 "nbformat_minor": 2
}
